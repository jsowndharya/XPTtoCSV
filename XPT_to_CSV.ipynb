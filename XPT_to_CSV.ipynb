{
 "cells": [
  {
   "cell_type": "code",
   "execution_count": 3,
   "id": "77b5dee8",
   "metadata": {},
   "outputs": [],
   "source": [
    "import sys\n",
    "import pandas as pd\n",
    "import pyreadstat\n",
    "\n",
    "debug = True\n",
    "if debug:\n",
    "    fileName = r\"C:/temp/ALQY_F.xpt\"\n",
    "    logFile = r\"C:/temp/output.log\"\n",
    "else:\n",
    "    fileName = sys.argv[1]\n",
    "    logFile = sys.argv[2]\n",
    "\n",
    "# Redirect stdout to log file\n",
    "sys.stdout = open(logFile, 'a')\n",
    "\n",
    "# Read XPT file\n",
    "df, meta = pyreadstat.read_xport(fileName)\n",
    "\n",
    "print(f\"Input file read: {fileName}\")\n",
    "\n",
    "# Construct the path for the output CSV file\n",
    "output_csv = fileName.replace('.xpt', '_transformed.csv')\n",
    "\n",
    "# Export the data to a CSV file\n",
    "df.to_csv(output_csv, index=False)\n",
    "\n",
    "print(f\"File created: {output_csv}\")\n",
    "print(f\"Script completed: {pd.Timestamp.now()}\")\n",
    "\n",
    "# Restore stdout\n",
    "sys.stdout = sys.__stdout__"
   ]
  },
  {
   "cell_type": "code",
   "execution_count": null,
   "id": "254b1a11",
   "metadata": {},
   "outputs": [],
   "source": []
  }
 ],
 "metadata": {
  "kernelspec": {
   "display_name": "Python 3 (ipykernel)",
   "language": "python",
   "name": "python3"
  },
  "language_info": {
   "codemirror_mode": {
    "name": "ipython",
    "version": 3
   },
   "file_extension": ".py",
   "mimetype": "text/x-python",
   "name": "python",
   "nbconvert_exporter": "python",
   "pygments_lexer": "ipython3",
   "version": "3.11.5"
  }
 },
 "nbformat": 4,
 "nbformat_minor": 5
}
